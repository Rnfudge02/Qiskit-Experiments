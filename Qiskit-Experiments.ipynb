{
 "cells": [
  {
   "cell_type": "code",
   "execution_count": 41,
   "id": "b56b1d69-5562-446d-8ec0-a5eba45ccd7a",
   "metadata": {},
   "outputs": [
    {
     "name": "stdout",
     "output_type": "stream",
     "text": [
      "Requirement already satisfied: qiskit[visualization] in /home/robert/Qiskit-venv/lib/python3.10/site-packages (1.2.0)\n",
      "Collecting qiskit-ibm-runtime\n",
      "  Using cached qiskit_ibm_runtime-0.29.0-py3-none-any.whl (2.9 MB)\n",
      "Requirement already satisfied: qiskit-aer in /home/robert/Qiskit-venv/lib/python3.10/site-packages (0.15.0)\n",
      "Requirement already satisfied: qiskit-aer-gpu in /home/robert/Qiskit-venv/lib/python3.10/site-packages (0.15.0)\n",
      "Requirement already satisfied: jupyter in /home/robert/Qiskit-venv/lib/python3.10/site-packages (1.1.1)\n",
      "Requirement already satisfied: matplotlib in /home/robert/Qiskit-venv/lib/python3.10/site-packages (3.9.2)\n",
      "Requirement already satisfied: typing-extensions in /home/robert/Qiskit-venv/lib/python3.10/site-packages (from qiskit[visualization]) (4.12.2)\n",
      "Requirement already satisfied: stevedore>=3.0.0 in /home/robert/Qiskit-venv/lib/python3.10/site-packages (from qiskit[visualization]) (5.3.0)\n",
      "Requirement already satisfied: symengine>=0.11 in /home/robert/Qiskit-venv/lib/python3.10/site-packages (from qiskit[visualization]) (0.11.0)\n",
      "Requirement already satisfied: sympy>=1.3 in /home/robert/Qiskit-venv/lib/python3.10/site-packages (from qiskit[visualization]) (1.13.2)\n",
      "Requirement already satisfied: dill>=0.3 in /home/robert/Qiskit-venv/lib/python3.10/site-packages (from qiskit[visualization]) (0.3.8)\n",
      "Requirement already satisfied: numpy<3,>=1.17 in /home/robert/Qiskit-venv/lib/python3.10/site-packages (from qiskit[visualization]) (2.1.1)\n",
      "Requirement already satisfied: scipy>=1.5 in /home/robert/Qiskit-venv/lib/python3.10/site-packages (from qiskit[visualization]) (1.14.1)\n",
      "Requirement already satisfied: rustworkx>=0.15.0 in /home/robert/Qiskit-venv/lib/python3.10/site-packages (from qiskit[visualization]) (0.15.1)\n",
      "Requirement already satisfied: python-dateutil>=2.8.0 in /home/robert/Qiskit-venv/lib/python3.10/site-packages (from qiskit[visualization]) (2.9.0.post0)\n",
      "Requirement already satisfied: seaborn>=0.9.0 in /home/robert/Qiskit-venv/lib/python3.10/site-packages (from qiskit[visualization]) (0.13.2)\n",
      "Requirement already satisfied: pydot in /home/robert/Qiskit-venv/lib/python3.10/site-packages (from qiskit[visualization]) (3.0.1)\n",
      "Requirement already satisfied: Pillow>=4.2.1 in /home/robert/Qiskit-venv/lib/python3.10/site-packages (from qiskit[visualization]) (10.4.0)\n",
      "Requirement already satisfied: pylatexenc>=1.4 in /home/robert/Qiskit-venv/lib/python3.10/site-packages (from qiskit[visualization]) (2.10)\n",
      "Requirement already satisfied: websocket-client>=1.5.1 in /home/robert/Qiskit-venv/lib/python3.10/site-packages (from qiskit-ibm-runtime) (1.8.0)\n",
      "Collecting pydantic>=2.5.0\n",
      "  Downloading pydantic-2.9.0-py3-none-any.whl (434 kB)\n",
      "\u001b[2K     \u001b[38;2;114;156;31m━━━━━━━━━━━━━━━━━━━━━━━━━━━━━━━━━━━━━━━\u001b[0m \u001b[32m434.3/434.3 KB\u001b[0m \u001b[31m2.5 MB/s\u001b[0m eta \u001b[36m0:00:00\u001b[0m[31m2.4 MB/s\u001b[0m eta \u001b[36m0:00:01\u001b[0m\n",
      "\u001b[?25hCollecting ibm-platform-services>=0.22.6\n",
      "  Using cached ibm_platform_services-0.57.0-py3-none-any.whl (343 kB)\n",
      "Requirement already satisfied: urllib3>=1.21.1 in /home/robert/Qiskit-venv/lib/python3.10/site-packages (from qiskit-ibm-runtime) (2.2.2)\n",
      "Requirement already satisfied: requests>=2.19 in /home/robert/Qiskit-venv/lib/python3.10/site-packages (from qiskit-ibm-runtime) (2.32.3)\n",
      "Collecting requests-ntlm>=1.1.0\n",
      "  Using cached requests_ntlm-1.3.0-py3-none-any.whl (6.6 kB)\n",
      "Requirement already satisfied: psutil>=5 in /home/robert/Qiskit-venv/lib/python3.10/site-packages (from qiskit-aer) (6.0.0)\n",
      "Requirement already satisfied: nvidia-nvjitlink-cu12 in /home/robert/Qiskit-venv/lib/python3.10/site-packages (from qiskit-aer-gpu) (12.6.68)\n",
      "Requirement already satisfied: cuquantum-cu12>=23.3.0 in /home/robert/Qiskit-venv/lib/python3.10/site-packages (from qiskit-aer-gpu) (24.8.0)\n",
      "Requirement already satisfied: nvidia-cusparse-cu12>=12.1.0.106 in /home/robert/Qiskit-venv/lib/python3.10/site-packages (from qiskit-aer-gpu) (12.5.3.3)\n",
      "Requirement already satisfied: nvidia-cuda-runtime-cu12>=12.1.105 in /home/robert/Qiskit-venv/lib/python3.10/site-packages (from qiskit-aer-gpu) (12.6.68)\n",
      "Requirement already satisfied: nvidia-cublas-cu12>=12.1.3.1 in /home/robert/Qiskit-venv/lib/python3.10/site-packages (from qiskit-aer-gpu) (12.6.1.4)\n",
      "Requirement already satisfied: nvidia-cusolver-cu12>=11.4.5.107 in /home/robert/Qiskit-venv/lib/python3.10/site-packages (from qiskit-aer-gpu) (11.6.4.69)\n",
      "Requirement already satisfied: notebook in /home/robert/Qiskit-venv/lib/python3.10/site-packages (from jupyter) (7.2.2)\n",
      "Requirement already satisfied: jupyterlab in /home/robert/Qiskit-venv/lib/python3.10/site-packages (from jupyter) (4.2.5)\n",
      "Requirement already satisfied: ipywidgets in /home/robert/Qiskit-venv/lib/python3.10/site-packages (from jupyter) (8.1.5)\n",
      "Requirement already satisfied: ipykernel in /home/robert/Qiskit-venv/lib/python3.10/site-packages (from jupyter) (6.29.5)\n",
      "Requirement already satisfied: nbconvert in /home/robert/Qiskit-venv/lib/python3.10/site-packages (from jupyter) (7.16.4)\n",
      "Requirement already satisfied: jupyter-console in /home/robert/Qiskit-venv/lib/python3.10/site-packages (from jupyter) (6.6.3)\n",
      "Requirement already satisfied: pyparsing>=2.3.1 in /home/robert/Qiskit-venv/lib/python3.10/site-packages (from matplotlib) (3.1.4)\n",
      "Requirement already satisfied: fonttools>=4.22.0 in /home/robert/Qiskit-venv/lib/python3.10/site-packages (from matplotlib) (4.53.1)\n",
      "Requirement already satisfied: cycler>=0.10 in /home/robert/Qiskit-venv/lib/python3.10/site-packages (from matplotlib) (0.12.1)\n",
      "Requirement already satisfied: contourpy>=1.0.1 in /home/robert/Qiskit-venv/lib/python3.10/site-packages (from matplotlib) (1.3.0)\n",
      "Requirement already satisfied: kiwisolver>=1.3.1 in /home/robert/Qiskit-venv/lib/python3.10/site-packages (from matplotlib) (1.4.7)\n",
      "Requirement already satisfied: packaging>=20.0 in /home/robert/Qiskit-venv/lib/python3.10/site-packages (from matplotlib) (24.1)\n",
      "Requirement already satisfied: cutensornet-cu12==2.5.0 in /home/robert/Qiskit-venv/lib/python3.10/site-packages (from cuquantum-cu12>=23.3.0->qiskit-aer-gpu) (2.5.0)\n",
      "Requirement already satisfied: custatevec-cu12==1.6.0.post1 in /home/robert/Qiskit-venv/lib/python3.10/site-packages (from cuquantum-cu12>=23.3.0->qiskit-aer-gpu) (1.6.0.post1)\n",
      "Requirement already satisfied: cutensor-cu12<3,>=2.0.1 in /home/robert/Qiskit-venv/lib/python3.10/site-packages (from cutensornet-cu12==2.5.0->cuquantum-cu12>=23.3.0->qiskit-aer-gpu) (2.0.2)\n",
      "Collecting ibm-cloud-sdk-core<4.0.0,>=3.20.6\n",
      "  Using cached ibm_cloud_sdk_core-3.20.6-py3-none-any.whl (60 kB)\n",
      "Collecting annotated-types>=0.4.0\n",
      "  Using cached annotated_types-0.7.0-py3-none-any.whl (13 kB)\n",
      "Collecting pydantic-core==2.23.2\n",
      "  Downloading pydantic_core-2.23.2-cp310-cp310-manylinux_2_17_x86_64.manylinux2014_x86_64.whl (2.1 MB)\n",
      "\u001b[2K     \u001b[38;2;114;156;31m━━━━━━━━━━━━━━━━━━━━━━━━━━━━━━━━━━━━━━━━\u001b[0m \u001b[32m2.1/2.1 MB\u001b[0m \u001b[31m17.0 MB/s\u001b[0m eta \u001b[36m0:00:00\u001b[0m31m16.4 MB/s\u001b[0m eta \u001b[36m0:00:01\u001b[0m\n",
      "\u001b[?25hRequirement already satisfied: tzdata in /home/robert/Qiskit-venv/lib/python3.10/site-packages (from pydantic>=2.5.0->qiskit-ibm-runtime) (2024.1)\n",
      "Requirement already satisfied: six>=1.5 in /home/robert/Qiskit-venv/lib/python3.10/site-packages (from python-dateutil>=2.8.0->qiskit[visualization]) (1.16.0)\n",
      "Requirement already satisfied: certifi>=2017.4.17 in /home/robert/Qiskit-venv/lib/python3.10/site-packages (from requests>=2.19->qiskit-ibm-runtime) (2024.8.30)\n",
      "Requirement already satisfied: idna<4,>=2.5 in /home/robert/Qiskit-venv/lib/python3.10/site-packages (from requests>=2.19->qiskit-ibm-runtime) (3.8)\n",
      "Requirement already satisfied: charset-normalizer<4,>=2 in /home/robert/Qiskit-venv/lib/python3.10/site-packages (from requests>=2.19->qiskit-ibm-runtime) (3.3.2)\n",
      "Collecting cryptography>=1.3\n",
      "  Using cached cryptography-43.0.1-cp39-abi3-manylinux_2_28_x86_64.whl (4.0 MB)\n",
      "Collecting pyspnego>=0.4.0\n",
      "  Using cached pyspnego-0.11.1-py3-none-any.whl (130 kB)\n",
      "Requirement already satisfied: pandas>=1.2 in /home/robert/Qiskit-venv/lib/python3.10/site-packages (from seaborn>=0.9.0->qiskit[visualization]) (2.2.2)\n",
      "Requirement already satisfied: pbr>=2.0.0 in /home/robert/Qiskit-venv/lib/python3.10/site-packages (from stevedore>=3.0.0->qiskit[visualization]) (6.1.0)\n",
      "Requirement already satisfied: mpmath<1.4,>=1.1.0 in /home/robert/Qiskit-venv/lib/python3.10/site-packages (from sympy>=1.3->qiskit[visualization]) (1.3.0)\n",
      "Requirement already satisfied: comm>=0.1.1 in /home/robert/Qiskit-venv/lib/python3.10/site-packages (from ipykernel->jupyter) (0.2.2)\n",
      "Requirement already satisfied: ipython>=7.23.1 in /home/robert/Qiskit-venv/lib/python3.10/site-packages (from ipykernel->jupyter) (8.27.0)\n",
      "Requirement already satisfied: pyzmq>=24 in /home/robert/Qiskit-venv/lib/python3.10/site-packages (from ipykernel->jupyter) (26.2.0)\n",
      "Requirement already satisfied: debugpy>=1.6.5 in /home/robert/Qiskit-venv/lib/python3.10/site-packages (from ipykernel->jupyter) (1.8.5)\n",
      "Requirement already satisfied: jupyter-client>=6.1.12 in /home/robert/Qiskit-venv/lib/python3.10/site-packages (from ipykernel->jupyter) (8.6.2)\n",
      "Requirement already satisfied: matplotlib-inline>=0.1 in /home/robert/Qiskit-venv/lib/python3.10/site-packages (from ipykernel->jupyter) (0.1.7)\n",
      "Requirement already satisfied: nest-asyncio in /home/robert/Qiskit-venv/lib/python3.10/site-packages (from ipykernel->jupyter) (1.6.0)\n",
      "Requirement already satisfied: tornado>=6.1 in /home/robert/Qiskit-venv/lib/python3.10/site-packages (from ipykernel->jupyter) (6.4.1)\n",
      "Requirement already satisfied: jupyter-core!=5.0.*,>=4.12 in /home/robert/Qiskit-venv/lib/python3.10/site-packages (from ipykernel->jupyter) (5.7.2)\n",
      "Requirement already satisfied: traitlets>=5.4.0 in /home/robert/Qiskit-venv/lib/python3.10/site-packages (from ipykernel->jupyter) (5.14.3)\n",
      "Requirement already satisfied: widgetsnbextension~=4.0.12 in /home/robert/Qiskit-venv/lib/python3.10/site-packages (from ipywidgets->jupyter) (4.0.13)\n",
      "Requirement already satisfied: jupyterlab-widgets~=3.0.12 in /home/robert/Qiskit-venv/lib/python3.10/site-packages (from ipywidgets->jupyter) (3.0.13)\n",
      "Requirement already satisfied: prompt-toolkit>=3.0.30 in /home/robert/Qiskit-venv/lib/python3.10/site-packages (from jupyter-console->jupyter) (3.0.47)\n",
      "Requirement already satisfied: pygments in /home/robert/Qiskit-venv/lib/python3.10/site-packages (from jupyter-console->jupyter) (2.18.0)\n",
      "Requirement already satisfied: jupyter-lsp>=2.0.0 in /home/robert/Qiskit-venv/lib/python3.10/site-packages (from jupyterlab->jupyter) (2.2.5)\n",
      "Requirement already satisfied: jupyterlab-server<3,>=2.27.1 in /home/robert/Qiskit-venv/lib/python3.10/site-packages (from jupyterlab->jupyter) (2.27.3)\n",
      "Requirement already satisfied: jupyter-server<3,>=2.4.0 in /home/robert/Qiskit-venv/lib/python3.10/site-packages (from jupyterlab->jupyter) (2.14.2)\n",
      "Requirement already satisfied: jinja2>=3.0.3 in /home/robert/Qiskit-venv/lib/python3.10/site-packages (from jupyterlab->jupyter) (3.1.4)\n",
      "Requirement already satisfied: notebook-shim>=0.2 in /home/robert/Qiskit-venv/lib/python3.10/site-packages (from jupyterlab->jupyter) (0.2.4)\n",
      "Requirement already satisfied: async-lru>=1.0.0 in /home/robert/Qiskit-venv/lib/python3.10/site-packages (from jupyterlab->jupyter) (2.0.4)\n",
      "Requirement already satisfied: setuptools>=40.1.0 in /home/robert/Qiskit-venv/lib/python3.10/site-packages (from jupyterlab->jupyter) (59.6.0)\n",
      "Requirement already satisfied: tomli>=1.2.2 in /home/robert/Qiskit-venv/lib/python3.10/site-packages (from jupyterlab->jupyter) (2.0.1)\n",
      "Requirement already satisfied: httpx>=0.25.0 in /home/robert/Qiskit-venv/lib/python3.10/site-packages (from jupyterlab->jupyter) (0.27.2)\n",
      "Requirement already satisfied: beautifulsoup4 in /home/robert/Qiskit-venv/lib/python3.10/site-packages (from nbconvert->jupyter) (4.12.3)\n",
      "Requirement already satisfied: tinycss2 in /home/robert/Qiskit-venv/lib/python3.10/site-packages (from nbconvert->jupyter) (1.3.0)\n",
      "Requirement already satisfied: nbformat>=5.7 in /home/robert/Qiskit-venv/lib/python3.10/site-packages (from nbconvert->jupyter) (5.10.4)\n",
      "Requirement already satisfied: bleach!=5.0.0 in /home/robert/Qiskit-venv/lib/python3.10/site-packages (from nbconvert->jupyter) (6.1.0)\n",
      "Requirement already satisfied: markupsafe>=2.0 in /home/robert/Qiskit-venv/lib/python3.10/site-packages (from nbconvert->jupyter) (2.1.5)\n",
      "Requirement already satisfied: nbclient>=0.5.0 in /home/robert/Qiskit-venv/lib/python3.10/site-packages (from nbconvert->jupyter) (0.10.0)\n",
      "Requirement already satisfied: defusedxml in /home/robert/Qiskit-venv/lib/python3.10/site-packages (from nbconvert->jupyter) (0.7.1)\n",
      "Requirement already satisfied: mistune<4,>=2.0.3 in /home/robert/Qiskit-venv/lib/python3.10/site-packages (from nbconvert->jupyter) (3.0.2)\n",
      "Requirement already satisfied: pandocfilters>=1.4.1 in /home/robert/Qiskit-venv/lib/python3.10/site-packages (from nbconvert->jupyter) (1.5.1)\n",
      "Requirement already satisfied: jupyterlab-pygments in /home/robert/Qiskit-venv/lib/python3.10/site-packages (from nbconvert->jupyter) (0.3.0)\n",
      "Requirement already satisfied: webencodings in /home/robert/Qiskit-venv/lib/python3.10/site-packages (from bleach!=5.0.0->nbconvert->jupyter) (0.5.1)\n",
      "Requirement already satisfied: cffi>=1.12 in /home/robert/Qiskit-venv/lib/python3.10/site-packages (from cryptography>=1.3->requests-ntlm>=1.1.0->qiskit-ibm-runtime) (1.17.1)\n",
      "Requirement already satisfied: anyio in /home/robert/Qiskit-venv/lib/python3.10/site-packages (from httpx>=0.25.0->jupyterlab->jupyter) (4.4.0)\n",
      "Requirement already satisfied: httpcore==1.* in /home/robert/Qiskit-venv/lib/python3.10/site-packages (from httpx>=0.25.0->jupyterlab->jupyter) (1.0.5)\n",
      "Requirement already satisfied: sniffio in /home/robert/Qiskit-venv/lib/python3.10/site-packages (from httpx>=0.25.0->jupyterlab->jupyter) (1.3.1)\n",
      "Requirement already satisfied: h11<0.15,>=0.13 in /home/robert/Qiskit-venv/lib/python3.10/site-packages (from httpcore==1.*->httpx>=0.25.0->jupyterlab->jupyter) (0.14.0)\n",
      "Collecting PyJWT<3.0.0,>=2.8.0\n",
      "  Using cached PyJWT-2.9.0-py3-none-any.whl (22 kB)\n",
      "Requirement already satisfied: jedi>=0.16 in /home/robert/Qiskit-venv/lib/python3.10/site-packages (from ipython>=7.23.1->ipykernel->jupyter) (0.19.1)\n",
      "Requirement already satisfied: decorator in /home/robert/Qiskit-venv/lib/python3.10/site-packages (from ipython>=7.23.1->ipykernel->jupyter) (5.1.1)\n",
      "Requirement already satisfied: stack-data in /home/robert/Qiskit-venv/lib/python3.10/site-packages (from ipython>=7.23.1->ipykernel->jupyter) (0.6.3)\n",
      "Requirement already satisfied: exceptiongroup in /home/robert/Qiskit-venv/lib/python3.10/site-packages (from ipython>=7.23.1->ipykernel->jupyter) (1.2.2)\n",
      "Requirement already satisfied: pexpect>4.3 in /home/robert/Qiskit-venv/lib/python3.10/site-packages (from ipython>=7.23.1->ipykernel->jupyter) (4.9.0)\n",
      "Requirement already satisfied: platformdirs>=2.5 in /home/robert/Qiskit-venv/lib/python3.10/site-packages (from jupyter-core!=5.0.*,>=4.12->ipykernel->jupyter) (4.3.2)\n",
      "Requirement already satisfied: prometheus-client>=0.9 in /home/robert/Qiskit-venv/lib/python3.10/site-packages (from jupyter-server<3,>=2.4.0->jupyterlab->jupyter) (0.20.0)\n",
      "Requirement already satisfied: send2trash>=1.8.2 in /home/robert/Qiskit-venv/lib/python3.10/site-packages (from jupyter-server<3,>=2.4.0->jupyterlab->jupyter) (1.8.3)\n",
      "Requirement already satisfied: jupyter-server-terminals>=0.4.4 in /home/robert/Qiskit-venv/lib/python3.10/site-packages (from jupyter-server<3,>=2.4.0->jupyterlab->jupyter) (0.5.3)\n",
      "Requirement already satisfied: argon2-cffi>=21.1 in /home/robert/Qiskit-venv/lib/python3.10/site-packages (from jupyter-server<3,>=2.4.0->jupyterlab->jupyter) (23.1.0)\n",
      "Requirement already satisfied: overrides>=5.0 in /home/robert/Qiskit-venv/lib/python3.10/site-packages (from jupyter-server<3,>=2.4.0->jupyterlab->jupyter) (7.7.0)\n",
      "Requirement already satisfied: terminado>=0.8.3 in /home/robert/Qiskit-venv/lib/python3.10/site-packages (from jupyter-server<3,>=2.4.0->jupyterlab->jupyter) (0.18.1)\n",
      "Requirement already satisfied: jupyter-events>=0.9.0 in /home/robert/Qiskit-venv/lib/python3.10/site-packages (from jupyter-server<3,>=2.4.0->jupyterlab->jupyter) (0.10.0)\n",
      "Requirement already satisfied: babel>=2.10 in /home/robert/Qiskit-venv/lib/python3.10/site-packages (from jupyterlab-server<3,>=2.27.1->jupyterlab->jupyter) (2.16.0)\n",
      "Requirement already satisfied: jsonschema>=4.18.0 in /home/robert/Qiskit-venv/lib/python3.10/site-packages (from jupyterlab-server<3,>=2.27.1->jupyterlab->jupyter) (4.23.0)\n",
      "Requirement already satisfied: json5>=0.9.0 in /home/robert/Qiskit-venv/lib/python3.10/site-packages (from jupyterlab-server<3,>=2.27.1->jupyterlab->jupyter) (0.9.25)\n",
      "Requirement already satisfied: fastjsonschema>=2.15 in /home/robert/Qiskit-venv/lib/python3.10/site-packages (from nbformat>=5.7->nbconvert->jupyter) (2.20.0)\n",
      "Requirement already satisfied: pytz>=2020.1 in /home/robert/Qiskit-venv/lib/python3.10/site-packages (from pandas>=1.2->seaborn>=0.9.0->qiskit[visualization]) (2024.1)\n",
      "Requirement already satisfied: wcwidth in /home/robert/Qiskit-venv/lib/python3.10/site-packages (from prompt-toolkit>=3.0.30->jupyter-console->jupyter) (0.2.13)\n",
      "Requirement already satisfied: soupsieve>1.2 in /home/robert/Qiskit-venv/lib/python3.10/site-packages (from beautifulsoup4->nbconvert->jupyter) (2.6)\n",
      "Requirement already satisfied: argon2-cffi-bindings in /home/robert/Qiskit-venv/lib/python3.10/site-packages (from argon2-cffi>=21.1->jupyter-server<3,>=2.4.0->jupyterlab->jupyter) (21.2.0)\n",
      "Requirement already satisfied: pycparser in /home/robert/Qiskit-venv/lib/python3.10/site-packages (from cffi>=1.12->cryptography>=1.3->requests-ntlm>=1.1.0->qiskit-ibm-runtime) (2.22)\n",
      "Requirement already satisfied: parso<0.9.0,>=0.8.3 in /home/robert/Qiskit-venv/lib/python3.10/site-packages (from jedi>=0.16->ipython>=7.23.1->ipykernel->jupyter) (0.8.4)\n",
      "Requirement already satisfied: attrs>=22.2.0 in /home/robert/Qiskit-venv/lib/python3.10/site-packages (from jsonschema>=4.18.0->jupyterlab-server<3,>=2.27.1->jupyterlab->jupyter) (24.2.0)\n",
      "Requirement already satisfied: jsonschema-specifications>=2023.03.6 in /home/robert/Qiskit-venv/lib/python3.10/site-packages (from jsonschema>=4.18.0->jupyterlab-server<3,>=2.27.1->jupyterlab->jupyter) (2023.12.1)\n",
      "Requirement already satisfied: referencing>=0.28.4 in /home/robert/Qiskit-venv/lib/python3.10/site-packages (from jsonschema>=4.18.0->jupyterlab-server<3,>=2.27.1->jupyterlab->jupyter) (0.35.1)\n",
      "Requirement already satisfied: rpds-py>=0.7.1 in /home/robert/Qiskit-venv/lib/python3.10/site-packages (from jsonschema>=4.18.0->jupyterlab-server<3,>=2.27.1->jupyterlab->jupyter) (0.20.0)\n",
      "Requirement already satisfied: rfc3339-validator in /home/robert/Qiskit-venv/lib/python3.10/site-packages (from jupyter-events>=0.9.0->jupyter-server<3,>=2.4.0->jupyterlab->jupyter) (0.1.4)\n",
      "Requirement already satisfied: python-json-logger>=2.0.4 in /home/robert/Qiskit-venv/lib/python3.10/site-packages (from jupyter-events>=0.9.0->jupyter-server<3,>=2.4.0->jupyterlab->jupyter) (2.0.7)\n",
      "Requirement already satisfied: rfc3986-validator>=0.1.1 in /home/robert/Qiskit-venv/lib/python3.10/site-packages (from jupyter-events>=0.9.0->jupyter-server<3,>=2.4.0->jupyterlab->jupyter) (0.1.1)\n",
      "Requirement already satisfied: pyyaml>=5.3 in /home/robert/Qiskit-venv/lib/python3.10/site-packages (from jupyter-events>=0.9.0->jupyter-server<3,>=2.4.0->jupyterlab->jupyter) (6.0.2)\n",
      "Requirement already satisfied: ptyprocess>=0.5 in /home/robert/Qiskit-venv/lib/python3.10/site-packages (from pexpect>4.3->ipython>=7.23.1->ipykernel->jupyter) (0.7.0)\n",
      "Requirement already satisfied: asttokens>=2.1.0 in /home/robert/Qiskit-venv/lib/python3.10/site-packages (from stack-data->ipython>=7.23.1->ipykernel->jupyter) (2.4.1)\n",
      "Requirement already satisfied: executing>=1.2.0 in /home/robert/Qiskit-venv/lib/python3.10/site-packages (from stack-data->ipython>=7.23.1->ipykernel->jupyter) (2.1.0)\n",
      "Requirement already satisfied: pure-eval in /home/robert/Qiskit-venv/lib/python3.10/site-packages (from stack-data->ipython>=7.23.1->ipykernel->jupyter) (0.2.3)\n",
      "Requirement already satisfied: jsonpointer>1.13 in /home/robert/Qiskit-venv/lib/python3.10/site-packages (from jsonschema>=4.18.0->jupyterlab-server<3,>=2.27.1->jupyterlab->jupyter) (3.0.0)\n",
      "Requirement already satisfied: fqdn in /home/robert/Qiskit-venv/lib/python3.10/site-packages (from jsonschema>=4.18.0->jupyterlab-server<3,>=2.27.1->jupyterlab->jupyter) (1.5.1)\n",
      "Requirement already satisfied: uri-template in /home/robert/Qiskit-venv/lib/python3.10/site-packages (from jsonschema>=4.18.0->jupyterlab-server<3,>=2.27.1->jupyterlab->jupyter) (1.3.0)\n",
      "Requirement already satisfied: isoduration in /home/robert/Qiskit-venv/lib/python3.10/site-packages (from jsonschema>=4.18.0->jupyterlab-server<3,>=2.27.1->jupyterlab->jupyter) (20.11.0)\n",
      "Requirement already satisfied: webcolors>=24.6.0 in /home/robert/Qiskit-venv/lib/python3.10/site-packages (from jsonschema>=4.18.0->jupyterlab-server<3,>=2.27.1->jupyterlab->jupyter) (24.8.0)\n",
      "Requirement already satisfied: arrow>=0.15.0 in /home/robert/Qiskit-venv/lib/python3.10/site-packages (from isoduration->jsonschema>=4.18.0->jupyterlab-server<3,>=2.27.1->jupyterlab->jupyter) (1.3.0)\n",
      "Requirement already satisfied: types-python-dateutil>=2.8.10 in /home/robert/Qiskit-venv/lib/python3.10/site-packages (from arrow>=0.15.0->isoduration->jsonschema>=4.18.0->jupyterlab-server<3,>=2.27.1->jupyterlab->jupyter) (2.9.0.20240906)\n",
      "Installing collected packages: PyJWT, pydantic-core, annotated-types, pydantic, ibm-cloud-sdk-core, cryptography, pyspnego, ibm-platform-services, requests-ntlm, qiskit-ibm-runtime\n",
      "Successfully installed PyJWT-2.9.0 annotated-types-0.7.0 cryptography-43.0.1 ibm-cloud-sdk-core-3.20.6 ibm-platform-services-0.57.0 pydantic-2.9.0 pydantic-core-2.23.2 pyspnego-0.11.1 qiskit-ibm-runtime-0.29.0 requests-ntlm-1.3.0\n",
      "Note: you may need to restart the kernel to use updated packages.\n"
     ]
    }
   ],
   "source": [
    "pip install qiskit[visualization] qiskit-ibm-runtime qiskit-aer qiskit-aer-gpu jupyter matplotlib"
   ]
  },
  {
   "cell_type": "code",
   "execution_count": null,
   "id": "a70e6634-c153-450c-a573-816606961694",
   "metadata": {},
   "outputs": [],
   "source": [
    "#Import Modules\n",
    "from qiskit import QuantumCircuit, transpile\n",
    "from qiskit.visualization import plot_histogram\n",
    "from qiskit_aer import AerSimulator\n",
    "\n",
    "from matplotlib import pyplot as plt"
   ]
  },
  {
   "cell_type": "code",
   "execution_count": null,
   "id": "e4db3976-add5-45c5-b7f2-61a24e229162",
   "metadata": {},
   "outputs": [],
   "source": [
    "#TODO - Create Quantum Noise Model"
   ]
  },
  {
   "cell_type": "code",
   "execution_count": 21,
   "id": "a23b4793-8005-4ea0-a1f8-e5690bbad01b",
   "metadata": {},
   "outputs": [],
   "source": [
    "#Create a Bell state circuit, maps to 2 qubits\n",
    "def get_bell_circ():\n",
    "    #Create a circuit to perform entanglement\n",
    "    b_circ = QuantumCircuit(2, name = \"To Bell State\")\n",
    "\n",
    "    #Prepare a bell state of both qubits, qubit 0 to hadamard state, do\n",
    "    #x-control of qubit 1 by qubit 0\n",
    "    b_circ.h(0)\n",
    "    b_circ.cx(0,1)\n",
    "\n",
    "    #Return the bell state circuit\n",
    "    return b_circ"
   ]
  },
  {
   "cell_type": "code",
   "execution_count": 22,
   "id": "5a445b37-f33f-4b7f-87dc-087b5de47410",
   "metadata": {},
   "outputs": [],
   "source": [
    "#Create a 2-bit encoding circuit, maps to 1-qubit\n",
    "def get_encode_circ(message):\n",
    "    #Create the encoder circuit\n",
    "    e_circ = QuantumCircuit(1, name = \"Information Encoder\")\n",
    "\n",
    "    #Flip the phase of the qubit and rotate about the x-axis 180 deg if message is 11\n",
    "    if (message & 0b11 == 0b11):\n",
    "        e_circ.z(0)\n",
    "        e_circ.x(0)\n",
    "\n",
    "    #If the message is 10, rotate 180 degrees about the x-axis\n",
    "    elif (message & 0b11 == 0b10):\n",
    "        e_circ.x(0)\n",
    "\n",
    "    #If the message is 01, flip the phase\n",
    "    elif (message & 0b11 == 0b01):\n",
    "        e_circ.z(0)\n",
    "\n",
    "    #Return the encoder circuit\n",
    "    return e_circ"
   ]
  },
  {
   "cell_type": "code",
   "execution_count": 42,
   "id": "ec62ea9e-0d1b-45e7-9d10-acc1224c66d4",
   "metadata": {},
   "outputs": [
    {
     "name": "stderr",
     "output_type": "stream",
     "text": [
      "/home/robert/Qiskit-venv/lib/python3.10/site-packages/qiskit/visualization/circuit/circuit_visualization.py:353: UserWarning: FigureCanvasAgg is non-interactive, and thus cannot be shown\n",
      "  image.show()\n"
     ]
    },
    {
     "data": {
      "image/png": "[encoded data removed]",
      "text/plain": [
       "<Figure size 143.647x117.056 with 1 Axes>"
      ]
     },
     "execution_count": 42,
     "metadata": {},
     "output_type": "execute_result"
    }
   ],
   "source": [
    "#Create Encoding Circuit instance, should be straight wire, I\n",
    "ec00 = get_encode_circ(0b00)\n",
    "ec00.draw('mpl')"
   ]
  },
  {
   "cell_type": "code",
   "execution_count": 24,
   "id": "e7f29978-5cd2-4a47-9e07-ab6cf1149ed2",
   "metadata": {},
   "outputs": [
    {
     "data": {
      "image/png": "[encoded data removed]",
      "text/plain": [
       "<Figure size 185.453x117.056 with 1 Axes>"
      ]
     },
     "execution_count": 24,
     "metadata": {},
     "output_type": "execute_result"
    }
   ],
   "source": [
    "#Create Encoding Circuit instance, should be inversion of phase\n",
    "ec01 = get_encode_circ(0b01)\n",
    "ec01.draw('mpl')"
   ]
  },
  {
   "cell_type": "code",
   "execution_count": 25,
   "id": "8b6e3426-118d-47d6-a524-c08277d6796c",
   "metadata": {},
   "outputs": [
    {
     "data": {
      "image/png": "[encoded data removed]",
      "text/plain": [
       "<Figure size 185.453x117.056 with 1 Axes>"
      ]
     },
     "execution_count": 25,
     "metadata": {},
     "output_type": "execute_result"
    }
   ],
   "source": [
    "#Create Encoding Circuit instance, should be \n",
    "ec10 = get_encode_circ(0b10)\n",
    "ec10.draw('mpl')"
   ]
  },
  {
   "cell_type": "code",
   "execution_count": 26,
   "id": "304edb6d-59f8-4e40-9295-66f2ffb61df2",
   "metadata": {},
   "outputs": [
    {
     "data": {
      "image/png": "[encoded data removed]",
      "text/plain": [
       "<Figure size 269.064x117.056 with 1 Axes>"
      ]
     },
     "execution_count": 26,
     "metadata": {},
     "output_type": "execute_result"
    }
   ],
   "source": [
    "#Create Encoding Circuit instance\n",
    "ec11 = get_encode_circ(0b11)\n",
    "ec11.draw('mpl')"
   ]
  },
  {
   "cell_type": "code",
   "execution_count": 27,
   "id": "88520944-0c8f-4e0a-8fca-0b95ad910bae",
   "metadata": {},
   "outputs": [
    {
     "data": {
      "image/png": "[encoded data removed]",
      "text/plain": [
       "<Figure size 287.294x200.667 with 1 Axes>"
      ]
     },
     "execution_count": 27,
     "metadata": {},
     "output_type": "execute_result"
    }
   ],
   "source": [
    "#Create a 2-bit decoding circuit, maps to 2-qubits\n",
    "def get_decode_circ():\n",
    "    #Create the decoder circuit\n",
    "    d_circ = QuantumCircuit(2, name = \"Information Decoder\")\n",
    "\n",
    "    #Un-entangle the qubits, and use the hadamard gate \n",
    "    d_circ.cx(0, 1)\n",
    "    d_circ.h(0)\n",
    "\n",
    "    #Return the decoder circuit\n",
    "    return d_circ\n",
    "\n",
    "#Create Decoding Circuit instance, draw\n",
    "dc = get_decode_circ()\n",
    "dc.draw('mpl')"
   ]
  },
  {
   "cell_type": "code",
   "execution_count": 28,
   "id": "64e33579-0017-49ee-9c83-d4d0b3df46e1",
   "metadata": {},
   "outputs": [
    {
     "data": {
      "image/png": "[encoded data removed]",
      "text/plain": [
       "<Figure size 352.675x200.667 with 1 Axes>"
      ]
     },
     "execution_count": 28,
     "metadata": {},
     "output_type": "execute_result"
    }
   ],
   "source": [
    "#Create reset circuit, maps to 1-qubit and 1-classical bit, collapses state\n",
    "def get_reset_circ():\n",
    "    #Create the reset circuit\n",
    "    r_circ = QuantumCircuit(1, 1, name = \"Reset To 0\")\n",
    "\n",
    "    #Measure to collapse the state and store in the classical_bit\n",
    "    r_circ.measure(0, 0)\n",
    "\n",
    "    #If the classical bit is measured as 1, return the qubit to 0\n",
    "    with r_circ.if_test((0, 1)):\n",
    "        r_circ.x(0)\n",
    "\n",
    "    #Return the reset circuit\n",
    "    return r_circ\n",
    "\n",
    "#Create Reset Circuit instance, draw with mpl, the other doesn't visualize well\n",
    "rc = get_reset_circ()\n",
    "rc.draw('mpl')"
   ]
  },
  {
   "cell_type": "code",
   "execution_count": 39,
   "id": "b0385772-c673-41f5-a910-c5cad966f1e6",
   "metadata": {},
   "outputs": [
    {
     "data": {
      "image/png": "[encoded data removed]",
      "text/plain": [
       "<Figure size 1332.89x284.278 with 1 Axes>"
      ]
     },
     "execution_count": 39,
     "metadata": {},
     "output_type": "execute_result"
    }
   ],
   "source": [
    "#Create superdense coding circuit\n",
    "def get_sdc_circ(message):\n",
    "    #Create the superdense coding circuit\n",
    "    sdc_circ = QuantumCircuit(2, 2, name = \"Superdense Coding Circuit\")\n",
    "\n",
    "    #Prepare a bell state gate\n",
    "    bell_circ = get_bell_circ()\n",
    "\n",
    "    #Encode 10 into the state\n",
    "    enc_circ = get_encode_circ(message)\n",
    "\n",
    "    #Prepare decoder gate\n",
    "    dec_circ = get_decode_circ()\n",
    "\n",
    "    #START circuit construction\n",
    "\n",
    "    #Entangle q1 w q0 as control\n",
    "    sdc_circ.append(bell_circ, [0, 1])\n",
    "\n",
    "    #Encode the information in the first qubit\n",
    "    sdc_circ.append(enc_circ, [0])\n",
    "\n",
    "    #Decode the circuit\n",
    "    sdc_circ.append(dec_circ, [0, 1])\n",
    "\n",
    "    #Return the superdense coding circuit\n",
    "    return sdc_circ\n",
    "\n",
    "#Create superdense coding circuit for sending 11\n",
    "sdc = get_sdc_circ(0b01)\n",
    "sdc.measure_all()\n",
    "sdc.draw('mpl')"
   ]
  },
  {
   "cell_type": "code",
   "execution_count": 49,
   "id": "b9881a82-bb6f-477b-94c3-5fe37d7c799b",
   "metadata": {},
   "outputs": [
    {
     "ename": "NameError",
     "evalue": "name 'get_tel_enc_circ' is not defined",
     "output_type": "error",
     "traceback": [
      "\u001b[0;31m---------------------------------------------------------------------------\u001b[0m",
      "\u001b[0;31mNameError\u001b[0m                                 Traceback (most recent call last)",
      "Cell \u001b[0;32mIn[49], line 58\u001b[0m\n\u001b[1;32m     55\u001b[0m     \u001b[38;5;28;01mreturn\u001b[39;00m tel_circ\n\u001b[1;32m     57\u001b[0m \u001b[38;5;66;03m#Create superdense coding circuit for sending 11\u001b[39;00m\n\u001b[0;32m---> 58\u001b[0m tc \u001b[38;5;241m=\u001b[39m \u001b[43mget_tel_circ\u001b[49m\u001b[43m(\u001b[49m\u001b[43m)\u001b[49m\n\u001b[1;32m     59\u001b[0m tc\u001b[38;5;241m.\u001b[39mmeasure_all()\n\u001b[1;32m     60\u001b[0m tc\u001b[38;5;241m.\u001b[39mdraw(\u001b[38;5;124m'\u001b[39m\u001b[38;5;124mmpl\u001b[39m\u001b[38;5;124m'\u001b[39m)\n",
      "Cell \u001b[0;32mIn[49], line 33\u001b[0m, in \u001b[0;36mget_tel_circ\u001b[0;34m()\u001b[0m\n\u001b[1;32m     30\u001b[0m \u001b[38;5;66;03m#Prepare decoder gate\u001b[39;00m\n\u001b[1;32m     31\u001b[0m dec_circ \u001b[38;5;241m=\u001b[39m get_decode_circ()\n\u001b[0;32m---> 33\u001b[0m t_enc_circ \u001b[38;5;241m=\u001b[39m \u001b[43mget_tel_enc_circ\u001b[49m()\n\u001b[1;32m     35\u001b[0m \u001b[38;5;66;03m#START circuit construction\u001b[39;00m\n\u001b[1;32m     36\u001b[0m \n\u001b[1;32m     37\u001b[0m \u001b[38;5;66;03m#entangle q2 w q1 as control\u001b[39;00m\n\u001b[1;32m     38\u001b[0m tel_circ\u001b[38;5;241m.\u001b[39mappend(bell_circ, [\u001b[38;5;241m1\u001b[39m, \u001b[38;5;241m2\u001b[39m])\n",
      "\u001b[0;31mNameError\u001b[0m: name 'get_tel_enc_circ' is not defined"
     ]
    }
   ],
   "source": [
    "#Create quantum teleportation circuit, similar to the superdense coding circuit\n",
    "def get_tel_circ():\n",
    "    #Create the teleportation circuit circuit\n",
    "    tel_circ = QuantumCircuit(3, name = \"Quantum Teleportation circuit\")\n",
    "\n",
    "    #Prepare a bell state gate\n",
    "    bell_circ = get_bell_circ()\n",
    "\n",
    "    #Prepare decoder gate\n",
    "    dec_circ = get_decode_circ()\n",
    "\n",
    "    #START circuit construction\n",
    "\n",
    "    #entangle q2 w q1 as control\n",
    "    tel_circ.append(bell_circ, [1, 2])\n",
    "\n",
    "    #Decode the circuit\n",
    "    tel_circ.append(dec_circ, [0, 1])\n",
    "\n",
    "    #Collapse the first two qubits\n",
    "    tel_circ.measure(0, 0)\n",
    "    tel_circ.measure(1, 1)\n",
    "\n",
    "    #Encode the 3rd qubit with alternating encoding pattern\n",
    "    with tel_circ.if_test(0, 1):\n",
    "        tel_circ.z(2)\n",
    "        \n",
    "    with tel_circ.if_test(1, 1):\n",
    "        tel_circ.x(2)\n",
    "\n",
    "    #Return the superdense coding circuit\n",
    "    return tel_circ\n",
    "\n",
    "#Create superdense coding circuit for sending 11\n",
    "tc = get_tel_circ()\n",
    "tc.measure_all()\n",
    "tc.draw('mpl')"
   ]
  },
  {
   "cell_type": "code",
   "execution_count": 36,
   "id": "bb9147da-aeb7-44e5-a3b5-eadcabbc9be6",
   "metadata": {},
   "outputs": [
    {
     "data": {
      "image/png": "[encoded data removed]",
      "text/plain": [
       "<Figure size 640x480 with 1 Axes>"
      ]
     },
     "execution_count": 36,
     "metadata": {},
     "output_type": "execute_result"
    }
   ],
   "source": [
    "#Intialize the simulator\n",
    "sim = AerSimulator(method = 'density_matrix', device = 'GPU')\n",
    "iterations = 2048\n",
    "\n",
    "#Transpile the circuit for the simulator to run\n",
    "t_for_sim = transpile(sdc, sim)\n",
    "t_for_sim.draw('mpl')\n",
    " \n",
    "# Run the transpiled circuit using the simulated backend\n",
    "job = sim.run(t_for_sim, shots = iterations)\n",
    "counts = job.result().get_counts()\n",
    "plot_histogram(counts, title = \"System Output\")"
   ]
  },
  {
   "cell_type": "code",
   "execution_count": 33,
   "id": "9f1b911e-bb10-4c97-96c3-333b4de1b370",
   "metadata": {},
   "outputs": [
    {
     "name": "stdout",
     "output_type": "stream",
     "text": [
      "('CPU', 'GPU')\n",
      "('automatic', 'statevector', 'density_matrix', 'stabilizer', 'matrix_product_state', 'extended_stabilizer', 'unitary', 'superop', 'tensor_network')\n"
     ]
    }
   ],
   "source": [
    "#Assess simulator properties\n",
    "print(sim.available_devices())\n",
    "print(sim.available_methods())"
   ]
  },
  {
   "cell_type": "code",
   "execution_count": 48,
   "id": "56b731e4-08ce-417a-ac09-72d17f1dfd33",
   "metadata": {},
   "outputs": [
    {
     "name": "stdout",
     "output_type": "stream",
     "text": [
      "10\n"
     ]
    }
   ],
   "source": [
    "#Encode the 3rd qubit with alternating encoding pattern\n",
    "bh = 1\n",
    "bl = 0\n",
    "\n",
    "if (bh == 1 & bl == 1):\n",
    "        print(\"11\")\n",
    "\n",
    "elif (bh == 1):\n",
    "    print(\"10\")\n",
    "\n",
    "elif (bl == 1):\n",
    "    print(\"01\")\n",
    "\n",
    "else:\n",
    "    print(\"00\")"
   ]
  },
  {
   "cell_type": "code",
   "execution_count": null,
   "id": "d6e6916f-23b5-4c02-934f-e5b4a612b4ca",
   "metadata": {},
   "outputs": [],
   "source": []
  }
 ],
 "metadata": {
  "kernelspec": {
   "display_name": "Python 3 (ipykernel)",
   "language": "python",
   "name": "python3"
  },
  "language_info": {
   "codemirror_mode": {
    "name": "ipython",
    "version": 3
   },
   "file_extension": ".py",
   "mimetype": "text/x-python",
   "name": "python",
   "nbconvert_exporter": "python",
   "pygments_lexer": "ipython3",
   "version": "3.10.12"
  }
 },
 "nbformat": 4,
 "nbformat_minor": 5
}
